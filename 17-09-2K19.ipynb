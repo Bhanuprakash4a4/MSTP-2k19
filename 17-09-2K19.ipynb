{
 "cells": [
  {
   "cell_type": "markdown",
   "metadata": {},
   "source": [
    "# HEADING\n",
    "## MASTER\n",
    "### KING\n",
    "### QUEEN\n",
    "#### STAR\n",
    "##### BABY\n",
    "###### CUTE\n",
    "*Bhanu prakash*\n",
    "**manoj**\n",
    "***rakhul***\n",
    "\n"
   ]
  },
  {
   "cell_type": "markdown",
   "metadata": {},
   "source": [
    "!.[.] "
   ]
  }
 ],
 "metadata": {
  "kernelspec": {
   "display_name": "Python 3",
   "language": "python",
   "name": "python3"
  },
  "language_info": {
   "codemirror_mode": {
    "name": "ipython",
    "version": 3
   },
   "file_extension": ".py",
   "mimetype": "text/x-python",
   "name": "python",
   "nbconvert_exporter": "python",
   "pygments_lexer": "ipython3",
   "version": "3.7.3"
  }
 },
 "nbformat": 4,
 "nbformat_minor": 2
}
