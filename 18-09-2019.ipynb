{
 "cells": [
  {
   "cell_type": "markdown",
   "metadata": {},
   "source": [
    "#### day objectives\n",
    "- variable declaration \n",
    "- data types and conversions\n",
    "- airthmetic operation by using python\n",
    "- identation\n",
    "- how to take input from dynamically\n",
    "- condition statements in python"
   ]
  },
  {
   "cell_type": "code",
   "execution_count": 1,
   "metadata": {},
   "outputs": [
    {
     "name": "stdout",
     "output_type": "stream",
     "text": [
      "hello world gd afternoon\n",
      "hai hello\n"
     ]
    }
   ],
   "source": [
    "print(\"hello world\",end=\" \")\n",
    "print(\"gd afternoon\")\n",
    "print(\"hai hello\")"
   ]
  },
  {
   "cell_type": "markdown",
   "metadata": {},
   "source": [
    "### variable declaration"
   ]
  },
  {
   "cell_type": "code",
   "execution_count": 2,
   "metadata": {},
   "outputs": [
    {
     "name": "stdout",
     "output_type": "stream",
     "text": [
      "4 4 4 4\n"
     ]
    }
   ],
   "source": [
    "n=4              \n",
    "n2=n3=n4=n            \n",
    "print(n,n2,n3,n4)"
   ]
  },
  {
   "cell_type": "code",
   "execution_count": 3,
   "metadata": {},
   "outputs": [
    {
     "name": "stdout",
     "output_type": "stream",
     "text": [
      "1 2 3\n"
     ]
    }
   ],
   "source": [
    "a,b,c=1,2,3\n",
    "print(a,b,c)"
   ]
  },
  {
   "cell_type": "markdown",
   "metadata": {},
   "source": [
    "### data types and coversions\n",
    "- int\n",
    "- float\n",
    "- string"
   ]
  },
  {
   "cell_type": "code",
   "execution_count": 4,
   "metadata": {},
   "outputs": [
    {
     "data": {
      "text/plain": [
       "int"
      ]
     },
     "execution_count": 4,
     "metadata": {},
     "output_type": "execute_result"
    }
   ],
   "source": [
    "n=12\n",
    "type(n)"
   ]
  },
  {
   "cell_type": "code",
   "execution_count": 5,
   "metadata": {},
   "outputs": [
    {
     "data": {
      "text/plain": [
       "float"
      ]
     },
     "execution_count": 5,
     "metadata": {},
     "output_type": "execute_result"
    }
   ],
   "source": [
    "n2=12.34\n",
    "type(n2)"
   ]
  },
  {
   "cell_type": "code",
   "execution_count": 6,
   "metadata": {},
   "outputs": [
    {
     "data": {
      "text/plain": [
       "str"
      ]
     },
     "execution_count": 6,
     "metadata": {},
     "output_type": "execute_result"
    }
   ],
   "source": [
    "n3=\"1233sdfg\"\n",
    "type(n3)"
   ]
  },
  {
   "cell_type": "code",
   "execution_count": 7,
   "metadata": {},
   "outputs": [
    {
     "data": {
      "text/plain": [
       "12.0"
      ]
     },
     "execution_count": 7,
     "metadata": {},
     "output_type": "execute_result"
    }
   ],
   "source": [
    "n4=12.32      #conversion of float to integer\n",
    "float(str(int(n4)))"
   ]
  },
  {
   "cell_type": "markdown",
   "metadata": {},
   "source": [
    "### arthimatic operation by  using python"
   ]
  },
  {
   "cell_type": "code",
   "execution_count": 8,
   "metadata": {},
   "outputs": [
    {
     "name": "stdout",
     "output_type": "stream",
     "text": [
      "9\n",
      "-1\n",
      "20\n",
      "0.8\n",
      "0\n",
      "4\n",
      "1024\n"
     ]
    }
   ],
   "source": [
    "n1=4\n",
    "n2=5\n",
    "print(n1+n2)      #addition of two numbers\n",
    "print(n1-n2)\n",
    "print(n1*n2)\n",
    "print(n1/n2)       #divisible od two no's(include decimal values)\n",
    "print(n1//n2)      #divisible of two no's(without including decimal values)\n",
    "print(n1%n2)       #module of two no's\n",
    "print(n1**n2)      #power of two no's\n",
    "\n",
    "\n",
    "\n"
   ]
  },
  {
   "cell_type": "markdown",
   "metadata": {},
   "source": [
    "### indentation"
   ]
  },
  {
   "cell_type": "code",
   "execution_count": 9,
   "metadata": {},
   "outputs": [
    {
     "name": "stdout",
     "output_type": "stream",
     "text": [
      "9\n"
     ]
    }
   ],
   "source": [
    "a=8\n",
    "b=9\n",
    "if b>a:\n",
    "    print(b)"
   ]
  },
  {
   "cell_type": "code",
   "execution_count": 10,
   "metadata": {},
   "outputs": [
    {
     "name": "stdout",
     "output_type": "stream",
     "text": [
      "even\n"
     ]
    }
   ],
   "source": [
    "n=12\n",
    "if n%2==0:\n",
    "    print(\"even\")     ##even or odd\n",
    "else:\n",
    "    print(\"odd\")"
   ]
  },
  {
   "cell_type": "code",
   "execution_count": 11,
   "metadata": {},
   "outputs": [
    {
     "name": "stdout",
     "output_type": "stream",
     "text": [
      "2015\n",
      "not a leap\n"
     ]
    }
   ],
   "source": [
    "n=int(input())\n",
    "if n%400==0 and n%100!=0 or n%4==0:\n",
    "   print(\"leap\")                      ### lewap year \n",
    "else:\n",
    "    print(\"not a leap\")"
   ]
  },
  {
   "cell_type": "markdown",
   "metadata": {},
   "source": [
    "### how to take input from dynamically"
   ]
  },
  {
   "cell_type": "code",
   "execution_count": 12,
   "metadata": {},
   "outputs": [
    {
     "name": "stdout",
     "output_type": "stream",
     "text": [
      "3\n",
      "3\n"
     ]
    }
   ],
   "source": [
    "n=int(input())\n",
    "print(n)"
   ]
  },
  {
   "cell_type": "markdown",
   "metadata": {},
   "source": [
    "### condition statement in python\n",
    "- if\n",
    "- else if\n",
    "- else\n",
    "- nested if\n"
   ]
  },
  {
   "cell_type": "code",
   "execution_count": 13,
   "metadata": {},
   "outputs": [
    {
     "name": "stdout",
     "output_type": "stream",
     "text": [
      "10\n",
      "in range\n"
     ]
    }
   ],
   "source": [
    "n=int(input())\n",
    "if n>=0 and n<=10:\n",
    "    print(\"in range\")    ##check if a number exists in a given range\n",
    "else: \n",
    "     print(\"not in range\")"
   ]
  },
  {
   "cell_type": "code",
   "execution_count": 14,
   "metadata": {},
   "outputs": [
    {
     "name": "stdout",
     "output_type": "stream",
     "text": [
      "14\n",
      "not multiple of 25\n"
     ]
    }
   ],
   "source": [
    "n=int(input())\n",
    "if n%25==0:\n",
    "    print(\"multiple by 25\")       ##check if a number is multiple by 10\n",
    "else:\n",
    "    print(\"not multiple of 25\")"
   ]
  },
  {
   "cell_type": "code",
   "execution_count": 1,
   "metadata": {},
   "outputs": [
    {
     "name": "stdout",
     "output_type": "stream",
     "text": [
      "23\n",
      "not a factor\n"
     ]
    }
   ],
   "source": [
    "n=int(input())\n",
    "if 1000%n==0:\n",
    "    print(\"factor\")\n",
    "else:\n",
    "    print(\"not a factor\")\n",
    "    "
   ]
  },
  {
   "cell_type": "code",
   "execution_count": 2,
   "metadata": {},
   "outputs": [
    {
     "name": "stdout",
     "output_type": "stream",
     "text": [
      "22\n",
      "31\n",
      "not equal\n"
     ]
    }
   ],
   "source": [
    "#check if given string is equal to ma number\n",
    "n= int(input())\n",
    "s= input()\n",
    "if str(n)==s:\n",
    "     print(\"equal\")\n",
    "else:\n",
    "     print(\"not equal\")"
   ]
  },
  {
   "cell_type": "code",
   "execution_count": 6,
   "metadata": {},
   "outputs": [
    {
     "name": "stdout",
     "output_type": "stream",
     "text": [
      "2016\n",
      "3162240000000\n"
     ]
    }
   ],
   "source": [
    "y=int(input())\n",
    "if (y%4==0 and y%100!=0) or (y%400==0):\n",
    "      print(366*24*60*60*1000*100)\n",
    "else:\n",
    "     print(\"not a leap year\")"
   ]
  },
  {
   "cell_type": "code",
   "execution_count": null,
   "metadata": {},
   "outputs": [],
   "source": []
  }
 ],
 "metadata": {
  "kernelspec": {
   "display_name": "Python 3",
   "language": "python",
   "name": "python3"
  },
  "language_info": {
   "codemirror_mode": {
    "name": "ipython",
    "version": 3
   },
   "file_extension": ".py",
   "mimetype": "text/x-python",
   "name": "python",
   "nbconvert_exporter": "python",
   "pygments_lexer": "ipython3",
   "version": "3.7.3"
  }
 },
 "nbformat": 4,
 "nbformat_minor": 2
}
