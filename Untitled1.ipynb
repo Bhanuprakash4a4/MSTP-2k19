{
 "cells": [
  {
   "cell_type": "code",
   "execution_count": 3,
   "metadata": {},
   "outputs": [],
   "source": [
    "import random\n",
    "with open('data/mark.txt','w') as f:\n",
    "    for i in range(10):\n",
    "        mark=random.randint(1,100)\n",
    "        f.write(str(mark)+'\\n')\n",
    "        "
   ]
  },
  {
   "cell_type": "code",
   "execution_count": 5,
   "metadata": {},
   "outputs": [],
   "source": [
    "with open('data/key.txt','w') as f:\n",
    "    for i in range(10):\n",
    "        if i<=5:\n",
    "            f.write(str(i)+' '+str(i+4)+'\\n')\n",
    "        else:\n",
    "            f.write(str(i)+' '+str(i-6)+'\\n')"
   ]
  },
  {
   "cell_type": "code",
   "execution_count": 6,
   "metadata": {},
   "outputs": [
    {
     "name": "stdout",
     "output_type": "stream",
     "text": [
      "{'0': '4', '1': '5', '2': '6', '3': '7', '4': '8', '5': '9', '6': '0', '7': '1', '8': '2', '9': '3'}\n"
     ]
    }
   ],
   "source": [
    "filepath='data/key.txt'\n",
    "def dictkey(filepath):\n",
    "    key={}\n",
    "    with open(filepath,'r') as f:\n",
    "        for line in f:\n",
    "            line=line.split()\n",
    "            key[line[0]]=line[1]\n",
    "    return key\n",
    "print(dictkey(filepath))"
   ]
  },
  {
   "cell_type": "code",
   "execution_count": 34,
   "metadata": {},
   "outputs": [
    {
     "name": "stdout",
     "output_type": "stream",
     "text": [
      "['57', '74', '69', '1', '68', '38', '16', '50', '68', '9', '']\n"
     ]
    }
   ],
   "source": [
    "def encryptdata(filepath):\n",
    "    key=dictkey('data/key.txt')\n",
    "    with open('data/mark.txt','r') as f:\n",
    "         filedata=f.read().split('\\n')\n",
    "    with open(filepath,'w') as f:\n",
    "        for line in filedata:\n",
    "            l=''\n",
    "            for mark in line:\n",
    "                l=l+key[mark]\n",
    "            f.write(l+'\\n')\n",
    "    return filedata\n",
    "filepath= 'data/encrtptedmarks.txt'\n",
    "print(encryptdata(filepath))"
   ]
  },
  {
   "cell_type": "code",
   "execution_count": 35,
   "metadata": {},
   "outputs": [
    {
     "data": {
      "text/plain": [
       "dict_items([('0', '4'), ('1', '5'), ('2', '6'), ('3', '7'), ('4', '8'), ('5', '9'), ('6', '0'), ('7', '1'), ('8', '2'), ('9', '3')])"
      ]
     },
     "execution_count": 35,
     "metadata": {},
     "output_type": "execute_result"
    }
   ],
   "source": [
    "key=dictkey('data/key.txt')\n",
    "newkey={}\n",
    "for item in key.items():\n",
    "    newkey[item[1]]=item[0]\n",
    "#print(newkey)\n",
    "key.items()"
   ]
  },
  {
   "cell_type": "code",
   "execution_count": 36,
   "metadata": {},
   "outputs": [],
   "source": [
    "def decryptdata(filepath,key):\n",
    "    with open('data/encrtptedmarks.txt','r') as f:\n",
    "         filedata=f.read().split('\\n')\n",
    "    with open(filepath,'w') as f:\n",
    "        for line in filedata:\n",
    "            x=''\n",
    "            for mark in line:\n",
    "                x+=key[mark]\n",
    "            f.write(x+'\\n')\n",
    "    return\n",
    "filepath='data/decrypteddata.txt'\n",
    "decryptdata(filepath,newkey)"
   ]
  },
  {
   "cell_type": "code",
   "execution_count": null,
   "metadata": {},
   "outputs": [],
   "source": []
  }
 ],
 "metadata": {
  "kernelspec": {
   "display_name": "Python 3",
   "language": "python",
   "name": "python3"
  },
  "language_info": {
   "codemirror_mode": {
    "name": "ipython",
    "version": 3
   },
   "file_extension": ".py",
   "mimetype": "text/x-python",
   "name": "python",
   "nbconvert_exporter": "python",
   "pygments_lexer": "ipython3",
   "version": "3.7.3"
  }
 },
 "nbformat": 4,
 "nbformat_minor": 2
}
